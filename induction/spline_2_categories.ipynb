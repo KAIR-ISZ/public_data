{
 "cells": [
  {
   "cell_type": "code",
   "execution_count": 2,
   "metadata": {},
   "outputs": [],
   "source": [
    "import numpy as np\n",
    "from numpy.random import normal\n",
    "import matplotlib.pyplot as plt\n",
    "import matplotlib as mpl\n",
    "import scipy\n",
    "from scipy.interpolate import BSpline\n",
    "from cmdstanpy import CmdStanModel\n",
    "import arviz as az\n",
    "import pandas as pd\n",
    "from glob import glob\n",
    "from sklearn import preprocessing\n",
    "\n",
    "from DA_tools.DA_tools import ribbon_plot\n",
    "from DA_tools.DA_colors import *\n",
    "\n",
    "plt.style.context(\"seaborn-white\")\n",
    "mpl.rcParams[\"figure.dpi\"] = 200\n"
   ]
  },
  {
   "cell_type": "code",
   "execution_count": 3,
   "metadata": {},
   "outputs": [],
   "source": [
    "signals_healthy_x = np.zeros((10,), dtype = object)\n",
    "signals_healthy_y = np.zeros((10,), dtype = object)\n",
    "for i in range(10):\n",
    "    a = pd.read_csv('processed_data1/signals_healthy_{}.csv'.format(i)) \n",
    "    signals_healthy_y[i] = a.to_numpy()[0]\n",
    "    signals_healthy_x[i] = a.to_numpy()[1]\n",
    "\n",
    "signals_damaged_1_y = np.zeros((10,), dtype = object)\n",
    "signals_damaged_1_x = np.zeros((10,), dtype = object)\n",
    "for i in range(10):\n",
    "    a = pd.read_csv('processed_data1/signals_damaged_1_{}.csv'.format(i)) \n",
    "    signals_damaged_1_y[i] = a.to_numpy()[0]\n",
    "    signals_damaged_1_x[i] = a.to_numpy()[1]\n",
    "\n",
    "signals_damaged_2_y = np.zeros((10,), dtype = object)\n",
    "signals_damaged_2_x = np.zeros((10,), dtype = object)\n",
    "for i in range(10):\n",
    "    a = pd.read_csv('processed_data1/signals_damaged_2_{}.csv'.format(i)) \n",
    "    signals_damaged_2_y[i] = a.to_numpy()[0]\n",
    "    signals_damaged_2_x[i] = a.to_numpy()[1]\n",
    "\n",
    "signals_damaged_ring_y = np.zeros((13,), dtype = object)\n",
    "signals_damaged_ring_x = np.zeros((13,), dtype = object)\n",
    "for i in range(13):\n",
    "    a = pd.read_csv('processed_data1/signals_damaged_ring_{}.csv'.format(i)) \n",
    "    signals_damaged_ring_y[i] = a.to_numpy()[0]\n",
    "    signals_damaged_ring_x[i] = a.to_numpy()[1]"
   ]
  },
  {
   "cell_type": "code",
   "execution_count": 4,
   "metadata": {},
   "outputs": [],
   "source": [
    "signals_damaged_y = np.array([],dtype=object)\n",
    "signals_damaged_x = np.array([],dtype=object)\n",
    "\n",
    "signals_damaged_y = np.append(signals_damaged_y,signals_damaged_1_y)\n",
    "signals_damaged_y = np.append(signals_damaged_y,signals_damaged_2_y)\n",
    "signals_damaged_y = np.append(signals_damaged_y,signals_damaged_ring_y)\n",
    "signals_damaged_x = np.append(signals_damaged_x,signals_damaged_1_x)\n",
    "signals_damaged_x = np.append(signals_damaged_x,signals_damaged_2_x)\n",
    "signals_damaged_x = np.append(signals_damaged_x,signals_damaged_ring_x)"
   ]
  },
  {
   "cell_type": "code",
   "execution_count": 5,
   "metadata": {},
   "outputs": [],
   "source": [
    "def create_spline_matrix(time, spl_order=3, num_knots=10):\n",
    "    \"\"\"\n",
    "    N - Number of time series,\n",
    "    time - array/series of time values\n",
    "\n",
    "    \"\"\"\n",
    "    knot_list = np.quantile(time, np.linspace(0, 1, num_knots))\n",
    "    knots = np.pad(knot_list, (spl_order, spl_order), mode=\"edge\")\n",
    "    B = BSpline(knots, np.identity(num_knots + 2), k=spl_order)(time[0:len(time)])\n",
    "    # Design matrix\n",
    "    return B\n",
    "\n",
    "min_max_scaler = preprocessing.MinMaxScaler()    "
   ]
  },
  {
   "cell_type": "code",
   "execution_count": 6,
   "metadata": {},
   "outputs": [],
   "source": [
    "IL1 = 4\n",
    "IL2 = 4\n",
    "IL = IL1 + IL2\n",
    "I = 2\n",
    "\n",
    "np.random.seed(21112022)\n",
    "\n",
    "sampling_order_1 = np.random.permutation([*range(10)])\n",
    "sampling_order_2 = np.random.permutation([*range(33)])\n",
    "sampling_order_3 = np.random.permutation([*range(43-IL)])"
   ]
  },
  {
   "cell_type": "code",
   "execution_count": 7,
   "metadata": {},
   "outputs": [],
   "source": [
    "\n",
    "y_labeled = np.concatenate(\n",
    "    [signals_healthy_y[sampling_order_1[:IL1]],\n",
    "        signals_damaged_y[sampling_order_2[:IL2]]]\n",
    ")\n",
    "\n",
    "\n",
    "labels = np.concatenate([np.ones(IL1), 2*np.ones(IL2)]).astype(int)\n",
    "\n",
    "\n",
    "y_rest = np.concatenate(\n",
    "    [signals_healthy_y[sampling_order_1[IL1:]],\n",
    "        signals_damaged_y[sampling_order_2[IL2:]]]\n",
    ")\n",
    "\n",
    "y_rest_time = np.concatenate(\n",
    "    [signals_healthy_x[sampling_order_1[IL1:]],\n",
    "        signals_damaged_x[sampling_order_2[IL2:]]]\n",
    ")\n",
    "\n",
    "\n",
    "y_rest_labels = np.concatenate([np.ones(10-IL1), 2*np.ones(33-IL2)])\n",
    "\n",
    "y = y_rest[sampling_order_3[:I]]\n",
    "lambda0 = np.array([IL1/IL, IL2/IL])\n",
    "\n",
    "y_test = y_rest[sampling_order_3[I:]]\n",
    "\n",
    "\n",
    "IT = y_test.shape[0]\n",
    "temp = np.array([])\n",
    "N_labeled = np.array([])\n",
    "for i in range(len(y_labeled)):\n",
    "    N_labeled = np.append(N_labeled,len(y_labeled[i]))"
   ]
  },
  {
   "cell_type": "code",
   "execution_count": 8,
   "metadata": {},
   "outputs": [],
   "source": [
    "N_labeled = np.array([])\n",
    "temp = np.array([])\n",
    "for i in range(len(y_labeled)):\n",
    "    N_labeled = np.append(N_labeled,len(y_labeled[i]))\n",
    "    temp = np.append(temp,y_labeled[i])\n",
    "y_labeled = temp\n",
    "\n",
    "\n",
    "N = np.array([])\n",
    "temp = np.array([])\n",
    "for i in range(len(y)):\n",
    "    N = np.append(N,len(y[i]))\n",
    "    temp = np.append(temp,y[i])\n",
    "y = temp\n",
    "\n",
    "N_test = np.array([])\n",
    "temp = np.array([])\n",
    "for i in range(len(y_test)):\n",
    "    N_test = np.append(N_test,len(y_test[i]))\n",
    "    temp = np.append(temp,y_test[i])\n",
    "y_test = temp  "
   ]
  },
  {
   "cell_type": "code",
   "execution_count": 9,
   "metadata": {},
   "outputs": [],
   "source": [
    "N_labeled = N_labeled.astype(int)\n",
    "N = N.astype(int)\n",
    "N_test = N_test.astype(int)\n"
   ]
  },
  {
   "cell_type": "code",
   "execution_count": 10,
   "metadata": {},
   "outputs": [],
   "source": [
    "spl_order = 3\n",
    "num_knots = 30\n",
    "B0_labeled = np.array([])\n",
    "B0_test = np.array([])\n",
    "B0 = np.array([])\n",
    "B0_rest = np.array([])\n",
    "B0_rest_2 = np.array([])\n",
    "\n",
    "\n",
    "for i in sampling_order_1[:IL1]:\n",
    "    time = signals_healthy_x[i]\n",
    "    knot_list = np.quantile(time, np.linspace(0, 1, num_knots))\n",
    "    B0_healthy = create_spline_matrix(time, spl_order, num_knots)\n",
    "    B0_healthy = B0_healthy.reshape(len(time)*(num_knots+2))\n",
    "    B0_labeled = np.append(B0_labeled,B0_healthy)\n",
    "\n",
    "for i in sampling_order_2[:IL2]:\n",
    "    time = signals_damaged_x[i]\n",
    "    knot_list = np.quantile(time, np.linspace(0, 1, num_knots))\n",
    "    B0_damaged_1 = create_spline_matrix(time, spl_order, num_knots)\n",
    "    B0_damaged_1 = B0_damaged_1.reshape(len(time)*(num_knots+2))\n",
    "    B0_labeled = np.append(B0_labeled,B0_damaged_1)\n",
    "\n",
    "for i in sampling_order_3[:I]:\n",
    "    time = y_rest_time[i]\n",
    "    knot_list = np.quantile(time, np.linspace(0, 1, num_knots))\n",
    "    B0_rest = create_spline_matrix(time, spl_order, num_knots)\n",
    "    B0_rest = B0_rest.reshape(len(time)*(num_knots+2))\n",
    "    B0 = np.append(B0,B0_rest)\n",
    "\n",
    "for i in sampling_order_3[I:]:\n",
    "    time = y_rest_time[i]\n",
    "    knot_list = np.quantile(time, np.linspace(0, 1, num_knots))\n",
    "    B0_rest_2 = create_spline_matrix(time, spl_order, num_knots)\n",
    "    B0_rest_2 = B0_rest_2.reshape(len(time)*(num_knots+2))\n",
    "    B0_test = np.append(B0_test,B0_rest_2)\n"
   ]
  },
  {
   "cell_type": "code",
   "execution_count": 11,
   "metadata": {},
   "outputs": [],
   "source": [
    "total_len = np.sum(N).astype(int)\n",
    "total_len_labeled = np.sum(N_labeled).astype(int)\n",
    "total_len_test = np.sum(N_test).astype(int)\n",
    "K = num_knots+2\n",
    "M = 2"
   ]
  },
  {
   "cell_type": "code",
   "execution_count": 12,
   "metadata": {},
   "outputs": [
    {
     "name": "stderr",
     "output_type": "stream",
     "text": [
      "INFO:cmdstanpy:found newer exe file, not recompiling\n"
     ]
    }
   ],
   "source": [
    "mix1 = CmdStanModel(stan_file=\"spline_mix_2.stan\")\n"
   ]
  },
  {
   "cell_type": "code",
   "execution_count": 13,
   "metadata": {},
   "outputs": [
    {
     "name": "stderr",
     "output_type": "stream",
     "text": [
      "INFO:cmdstanpy:CmdStan start processing\n"
     ]
    },
    {
     "data": {
      "application/vnd.jupyter.widget-view+json": {
       "model_id": "f3c8a6bbd9c746b09551dce78d7b9192",
       "version_major": 2,
       "version_minor": 0
      },
      "text/plain": [
       "chain 1 |          | 00:00 Status"
      ]
     },
     "metadata": {},
     "output_type": "display_data"
    },
    {
     "data": {
      "application/vnd.jupyter.widget-view+json": {
       "model_id": "4e70cdfafb464ed9a8b9499cdb569718",
       "version_major": 2,
       "version_minor": 0
      },
      "text/plain": [
       "chain 2 |          | 00:00 Status"
      ]
     },
     "metadata": {},
     "output_type": "display_data"
    },
    {
     "data": {
      "application/vnd.jupyter.widget-view+json": {
       "model_id": "fc7426661ed3461986c203d486b7be8a",
       "version_major": 2,
       "version_minor": 0
      },
      "text/plain": [
       "chain 3 |          | 00:00 Status"
      ]
     },
     "metadata": {},
     "output_type": "display_data"
    },
    {
     "data": {
      "application/vnd.jupyter.widget-view+json": {
       "model_id": "82ce9435c6c845c5afaf820407cad799",
       "version_major": 2,
       "version_minor": 0
      },
      "text/plain": [
       "chain 4 |          | 00:00 Status"
      ]
     },
     "metadata": {},
     "output_type": "display_data"
    },
    {
     "name": "stdout",
     "output_type": "stream",
     "text": [
      "                                                                                                                                                                                                                                                                                                                                "
     ]
    },
    {
     "name": "stderr",
     "output_type": "stream",
     "text": [
      "INFO:cmdstanpy:CmdStan done processing.\n"
     ]
    },
    {
     "name": "stdout",
     "output_type": "stream",
     "text": [
      "\n"
     ]
    }
   ],
   "source": [
    "data_out = {\n",
    "    \"I\": I,\n",
    "    \"IL\": IL,\n",
    "    \"N\": N,\n",
    "    \"N_labeled\": N_labeled,\n",
    "    \"total_len\": total_len,\n",
    "    \"total_len_labeled\": total_len_labeled,\n",
    "    \"K\": K,\n",
    "    \"M\": M,\n",
    "    \"x\": B0,\n",
    "    \"y\": y,\n",
    "    \"labels\": labels, \n",
    "    \"x_labeled\": B0_labeled,\n",
    "    \"y_labeled\": y_labeled,\n",
    "    \"lambda0\": lambda0,\n",
    "    \"IT\": IT,\n",
    "    \"N_test\":N_test,\n",
    "    \"x_test\": B0_test,\n",
    "    \"y_test\": y_test,\n",
    "    \"total_len_test\": total_len_test\n",
    "}\n",
    "mx2_result = mix1.sample(data=data_out, seed=21112022,max_treedepth=20)"
   ]
  },
  {
   "cell_type": "code",
   "execution_count": 14,
   "metadata": {},
   "outputs": [],
   "source": [
    "probs_from_arviz = az.summary(\n",
    "    mx2_result, \"log_probabilities\", kind='stats', round_to=5)\n",
    "probs_from_arviz_p = az.summary(\n",
    "    mx2_result, \"probabilities\", kind='stats', round_to=5)"
   ]
  },
  {
   "cell_type": "code",
   "execution_count": 15,
   "metadata": {},
   "outputs": [
    {
     "name": "stdout",
     "output_type": "stream",
     "text": [
      "3\n",
      "15\n",
      "hit rate =  0.4545454545454546\n"
     ]
    }
   ],
   "source": [
    "indices_cat1 = y_rest_labels[sampling_order_3[I:]] == 1\n",
    "indices_cat2 = y_rest_labels[sampling_order_3[I:]] == 2\n",
    "\n",
    "cat1 = probs_from_arviz.iloc[:IT, :].iloc[indices_cat1, :]\n",
    "cat2 = probs_from_arviz.iloc[IT:2*IT, :].iloc[indices_cat2, :]\n",
    "\n",
    "cat1p = probs_from_arviz_p.iloc[:IT, :].iloc[indices_cat1, :]\n",
    "cat2p = probs_from_arviz_p.iloc[IT:2*IT, :].iloc[indices_cat2, :]\n",
    "\n",
    "\n",
    "a = sum((cat1[\"mean\"].values) < np.log(0.5))\n",
    "b = sum((cat2[\"mean\"].values) < np.log(0.5))\n",
    "print(sum((cat1[\"mean\"].values) < np.log(0.5)))\n",
    "print(sum((cat2[\"mean\"].values) < np.log(0.5)))\n",
    "hit_rate = 1 - (a+b)/(43-I-IL)\n",
    "print('hit rate = ',hit_rate)\n"
   ]
  },
  {
   "cell_type": "code",
   "execution_count": 16,
   "metadata": {},
   "outputs": [
    {
     "name": "stderr",
     "output_type": "stream",
     "text": [
      "C:\\Users\\kjarz\\AppData\\Local\\Temp/ipykernel_27448/2851200885.py:10: FutureWarning: In future versions `DataFrame.to_latex` is expected to utilise the base implementation of `Styler.to_latex` for formatting and rendering. The arguments signature may therefore change. It is recommended instead to use `DataFrame.style.to_latex` which also contains additional functionality.\n",
      "  n = tex_file.write(lambda_summary.to_latex(escape=False))\n"
     ]
    }
   ],
   "source": [
    "lambda_summary = az.summary(mx2_result, var_names=[\n",
    "    'lambda'], filter_vars='like').drop(['mcse_sd', 'hdi_3%', 'hdi_97%'], axis=1)\n",
    "lambda_summary.index = ['$\\lambda_1$', '$\\lambda_2$']\n",
    "lambda_summary.columns = [\n",
    "    'mean', 'st. dev.',\t'$\\widehat{\\mathrm{MCSE}}$',\t'ESS (bulk)', 'ESS (tail)',\t'$\\widehat{R}$']\n",
    "lambda_summary\n",
    "\n",
    "tex_file = open(\n",
    "    \"tables_2cat/table_lambda_summary.tex\", \"w\")\n",
    "n = tex_file.write(lambda_summary.to_latex(escape=False))\n",
    "tex_file.close()"
   ]
  },
  {
   "cell_type": "code",
   "execution_count": 17,
   "metadata": {},
   "outputs": [
    {
     "name": "stderr",
     "output_type": "stream",
     "text": [
      "C:\\Users\\kjarz\\AppData\\Local\\Temp/ipykernel_27448/4091666091.py:10: FutureWarning: In future versions `DataFrame.to_latex` is expected to utilise the base implementation of `Styler.to_latex` for formatting and rendering. The arguments signature may therefore change. It is recommended instead to use `DataFrame.style.to_latex` which also contains additional functionality.\n",
      "  n = tex_file.write(sigma_summary.to_latex(escape=False))\n"
     ]
    }
   ],
   "source": [
    "sigma_summary = az.summary(mx2_result, var_names=[\n",
    "    'sigma'], filter_vars='like').drop(['mcse_sd', 'hdi_3%', 'hdi_97%'], axis=1)\n",
    "sigma_summary.index = ['$\\sigma_1$', '$\\sigma_2$']\n",
    "sigma_summary.columns = [\n",
    "    'mean', 'st. dev.',\t'$\\widehat{\\mathrm{MCSE}}$',\t'ESS (bulk)', 'ESS (tail)',\t'$\\widehat{R}$']\n",
    "sigma_summary\n",
    "\n",
    "tex_file = open(\n",
    "    \"tables_2cat/table_sigma_summary.tex\", \"w\")\n",
    "n = tex_file.write(sigma_summary.to_latex(escape=False))\n",
    "tex_file.close()"
   ]
  },
  {
   "cell_type": "code",
   "execution_count": 18,
   "metadata": {},
   "outputs": [],
   "source": [
    "beta_1 = az.summary(mx2_result, var_names=['beta']).filter(\n",
    "    like=', 0]', axis=0).loc[:, 'mean':'hdi_97%']\n",
    "\n",
    "beta_2 = az.summary(mx2_result, var_names=['beta']).filter(\n",
    "    like=', 1]', axis=0).loc[:, 'mean':'hdi_97%']\n",
    "\n",
    "betas = [beta_1,beta_2]"
   ]
  },
  {
   "cell_type": "code",
   "execution_count": 19,
   "metadata": {},
   "outputs": [
    {
     "name": "stderr",
     "output_type": "stream",
     "text": [
      "C:\\Users\\kjarz\\AppData\\Local\\Temp/ipykernel_27448/2094869802.py:5: FutureWarning: In future versions `DataFrame.to_latex` is expected to utilise the base implementation of `Styler.to_latex` for formatting and rendering. The arguments signature may therefore change. It is recommended instead to use `DataFrame.style.to_latex` which also contains additional functionality.\n",
      "  n = tex_file.write(beta_1.to_latex(escape=False))\n"
     ]
    }
   ],
   "source": [
    "beta_1.index = ['$\\\\beta_{1,'+str(k)+'}$' for k in range(num_knots+2)]\n",
    "beta_1.columns = ['mean', 'st. dev.', '4\\% HDI', '97\\% HDI']\n",
    "tex_file = open(\n",
    "    \"tables_2cat/table_beta_1_summary.tex\", \"w\")\n",
    "n = tex_file.write(beta_1.to_latex(escape=False))\n",
    "tex_file.close()"
   ]
  },
  {
   "cell_type": "code",
   "execution_count": 20,
   "metadata": {},
   "outputs": [
    {
     "name": "stderr",
     "output_type": "stream",
     "text": [
      "C:\\Users\\kjarz\\AppData\\Local\\Temp/ipykernel_27448/2962639957.py:5: FutureWarning: In future versions `DataFrame.to_latex` is expected to utilise the base implementation of `Styler.to_latex` for formatting and rendering. The arguments signature may therefore change. It is recommended instead to use `DataFrame.style.to_latex` which also contains additional functionality.\n",
      "  n = tex_file.write(beta_2.to_latex(escape=False))\n"
     ]
    }
   ],
   "source": [
    "beta_2.index = ['$\\\\beta_{1,'+str(k)+'}$' for k in range(num_knots+2)]\n",
    "beta_2.columns = ['mean', 'st. dev.', '4\\% HDI', '97\\% HDI']\n",
    "tex_file = open(\n",
    "    \"tables_2cat/table_beta_2_summary.tex\", \"w\")\n",
    "n = tex_file.write(beta_2.to_latex(escape=False))\n",
    "tex_file.close()\n"
   ]
  },
  {
   "cell_type": "code",
   "execution_count": 24,
   "metadata": {},
   "outputs": [
    {
     "data": {
      "image/png": "[encoded data removed]",
      "text/plain": [
       "<Figure size 2000x1200 with 2 Axes>"
      ]
     },
     "metadata": {
      "needs_background": "light"
     },
     "output_type": "display_data"
    }
   ],
   "source": [
    "fig, ax = plt.subplots(2,1,figsize=(10,6),tight_layout=True)\n",
    "\n",
    "x = [*range(len(cat1p))]\n",
    "ax[0].scatter(x, (cat1p[\"mean\"].values))\n",
    "ax[0].errorbar(x, cat1p[\"mean\"].values, [cat1p[\"mean\"].values-cat1p[\"hdi_3%\"].values,\n",
    "             cat1p[\"hdi_97%\"].values-cat1p[\"mean\"].values], linestyle='none')\n",
    "\n",
    "x = [*range(len(cat2p))]\n",
    "ax[1].scatter(x, (cat2p[\"mean\"].values))\n",
    "ax[1].errorbar(x, cat2p[\"mean\"].values, [cat2p[\"mean\"].values-cat2p[\"hdi_3%\"].values,\n",
    "             cat2p[\"hdi_97%\"].values-cat2p[\"mean\"].values], linestyle='none')\n",
    "\n",
    "ax[0].set_title('healthy', loc='left')\n",
    "ax[0].set_ylabel('Probability')\n",
    "ax[1].set_title('damaged', loc='left')\n",
    "ax[1].set_ylabel('Probability')\n",
    "ax[1].set_xlabel('Sample number')\n",
    "ax[0].set_xticks([0,11,len(cat1p)])\n",
    "ax[1].set_xticks([0,11,len(cat2p)])\n",
    "\n",
    "\n",
    "fig.savefig('figures_2cat/class_result_2cat.png')\n",
    "fig.savefig('figures_2cat/class_result_2cat.pdf', bbox_inches=\"tight\")\n",
    "\n"
   ]
  },
  {
   "cell_type": "code",
   "execution_count": 22,
   "metadata": {},
   "outputs": [],
   "source": [
    "# print(mx2_result.diagnose())"
   ]
  }
 ],
 "metadata": {
  "kernelspec": {
   "display_name": "Python 3.10.0 64-bit",
   "language": "python",
   "name": "python3"
  },
  "language_info": {
   "codemirror_mode": {
    "name": "ipython",
    "version": 3
   },
   "file_extension": ".py",
   "mimetype": "text/x-python",
   "name": "python",
   "nbconvert_exporter": "python",
   "pygments_lexer": "ipython3",
   "version": "3.10.0"
  },
  "orig_nbformat": 4,
  "vscode": {
   "interpreter": {
    "hash": "2670be6f64ce752baaf107219fac4c402e9afb03537e1f1d44bad756a8a6d8c8"
   }
  }
 },
 "nbformat": 4,
 "nbformat_minor": 2
}
