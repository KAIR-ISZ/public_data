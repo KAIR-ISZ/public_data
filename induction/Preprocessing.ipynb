{
 "cells": [
  {
   "cell_type": "markdown",
   "metadata": {},
   "source": [
    "PREPROCESSING"
   ]
  },
  {
   "cell_type": "code",
   "execution_count": 41,
   "metadata": {},
   "outputs": [],
   "source": [
    "import numpy as np\n",
    "from numpy.random import normal\n",
    "import matplotlib.pyplot as plt\n",
    "import matplotlib as mpl\n",
    "import scipy\n",
    "from scipy.interpolate import BSpline\n",
    "from cmdstanpy import CmdStanModel\n",
    "import arviz as az\n",
    "import pandas as pd\n",
    "from glob import glob\n",
    "from sklearn import preprocessing\n",
    "import csv"
   ]
  },
  {
   "cell_type": "code",
   "execution_count": 42,
   "metadata": {},
   "outputs": [],
   "source": [
    "def load_signals (files):\n",
    "    signals  = np.zeros((len(files),), dtype = object)\n",
    "    for index,i in enumerate(files):\n",
    "        file = np.loadtxt(i, dtype = 'str' , unpack = True)\n",
    "        file = np.char.replace(file,',','.')\n",
    "        file = file.astype(np.float64)\n",
    "        signals[index] = file\n",
    "    return signals\n",
    "\n",
    "def filtr_1(signal):\n",
    "    index = 0\n",
    "    y = 0\n",
    "\n",
    "   \n",
    "    while (y < 0.01):\n",
    "        y = signal[1][index]\n",
    "        index += 1\n",
    "\n",
    "    index -= 2\n",
    "    signal_y = signal[1][index:]\n",
    "    signal_x = signal[0][index:]\n",
    "    trunc_val_peak = -2.5\n",
    "    signal_y = signal_y[signal_y > trunc_val_peak]\n",
    "\n",
    "    index = 1\n",
    "    while abs(signal_y[-index] - signal_y[-(index+1)]) < 0.02:\n",
    "        index += 1\n",
    "\n",
    "    signal_y = signal_y[:-index]\n",
    "    signal_x = signal_x[:len(signal_y)]\n",
    "\n",
    "    return signal_x,signal_y\n",
    "\n",
    "def filtr_2(signal_x, signal_y):\n",
    "    \n",
    "    cum_sum = np.cumsum(signal_y[::-1])[::-1]\n",
    "    cum_mean = np.flip(cum_sum) / np.arange(1,len(cum_sum)+1)\n",
    "\n",
    "    index = 1\n",
    "    while abs(signal_y[-index-1] - cum_mean[index]) < 0.02:\n",
    "        index += 1\n",
    "    \n",
    "    index -= 2\n",
    "    signal_y_filtered = signal_y[:-index]\n",
    "    signal_x_filtered = signal_x[:len(signal_y_filtered)]\n",
    "    \n",
    "    return signal_x_filtered,signal_y_filtered\n",
    "\n",
    "def rms(y,x):\n",
    "    rms = []\n",
    "    for i in range(len(x)-1):\n",
    "        rms = np.append(rms,(np.trapz(np.square(y[i:2+i]),x[i:2+i])))\n",
    "    rms = np.sqrt(np.sum(rms)/(max(x)- min(x)))\n",
    "    return rms\n",
    "    \n",
    "\n",
    "    \n",
    "def rms_signals(signals_x,signals_y):\n",
    "        num_per_rms = 23\n",
    "        num = np.ceil(len(signals_y)/num_per_rms)\n",
    "        y = np.array_split(signals_y,num)\n",
    "        time = np.array_split(signals_x,num)\n",
    "        signal_rms = []\n",
    "        time_rms = []\n",
    "        for i in range(len(y)):\n",
    "            signal_rms =np.append(signal_rms,rms(y[i],time[i]))\n",
    "            time_rms = np.append(time_rms, np.mean(time[i]))\n",
    "    \n",
    "        return time_rms, signal_rms\n",
    "\n",
    "\n",
    "\n",
    "min_max_scaler = preprocessing.MinMaxScaler()"
   ]
  },
  {
   "cell_type": "code",
   "execution_count": 184,
   "metadata": {},
   "outputs": [],
   "source": [
    "files_healthy = glob('data/p0_*.*')\n",
    "files_damaged_1 = glob('data/p1_*.*')\n",
    "files_damaged_2 = glob('data/p2_*.*')\n",
    "files_damaged_ring = glob('data/pi_*.*')\n",
    "\n",
    "signals_healthy = load_signals(files_healthy)\n",
    "signals_damaged_1 = load_signals(files_damaged_1)\n",
    "signals_damaged_2 = load_signals(files_damaged_2)\n",
    "signals_damaged_ring = load_signals(files_damaged_ring)"
   ]
  },
  {
   "cell_type": "code",
   "execution_count": 183,
   "metadata": {},
   "outputs": [
    {
     "data": {
      "text/plain": [
       "[]"
      ]
     },
     "execution_count": 183,
     "metadata": {},
     "output_type": "execute_result"
    }
   ],
   "source": [
    "files_healthy"
   ]
  },
  {
   "cell_type": "code",
   "execution_count": 44,
   "metadata": {},
   "outputs": [],
   "source": [
    "signals_healthy_x = np.zeros((len(signals_healthy),), dtype = object)\n",
    "signals_healthy_y = np.zeros((len(signals_healthy),), dtype = object)\n",
    "\n",
    "for index,i in enumerate(signals_healthy):\n",
    "    signals_healthy_x[index],signals_healthy_y[index] = filtr_1(i)\n",
    "    signals_healthy_x[index],signals_healthy_y[index] = rms_signals(signals_healthy_x[index],signals_healthy_y[index]) \n",
    "    signals_healthy_x[index],signals_healthy_y[index] = filtr_2(signals_healthy_x[index],signals_healthy_y[index])\n",
    "    # signals_healthy_x[index] = min_max_scaler.fit_transform(signals_healthy_x[index].reshape(-1, 1)).astype(float)    #normalization\n",
    "    # signals_healthy_y[index] = min_max_scaler.fit_transform(signals_healthy_y[index].reshape(-1, 1)).astype(float)    #normalization\n",
    "    signals_healthy_x[index] = signals_healthy_x[index] - min(signals_healthy_x[index])"
   ]
  },
  {
   "cell_type": "code",
   "execution_count": 45,
   "metadata": {},
   "outputs": [],
   "source": [
    "signals_damaged_1_x = np.zeros((len(signals_damaged_1),), dtype = object)\n",
    "signals_damaged_1_y = np.zeros((len(signals_damaged_1),), dtype = object)\n",
    "\n",
    "for index,i in enumerate(signals_damaged_1):\n",
    "    signals_damaged_1_x[index],signals_damaged_1_y[index] = filtr_1(i)\n",
    "    signals_damaged_1_x[index],signals_damaged_1_y[index] = rms_signals(signals_damaged_1_x[index],signals_damaged_1_y[index]) \n",
    "    signals_damaged_1_x[index],signals_damaged_1_y[index] = filtr_2(signals_damaged_1_x[index],signals_damaged_1_y[index])\n",
    "    # signals_damaged_1_x[index] = min_max_scaler.fit_transform(signals_damaged_1_x[index].reshape(-1, 1)).astype(float)    #normalization        \n",
    "    # signals_damaged_1_y[index] = min_max_scaler.fit_transform(signals_damaged_1_y[index].reshape(-1, 1)).astype(float)    #normalization    \n",
    "    signals_damaged_1_x[index] = signals_damaged_1_x[index] - min(signals_damaged_1_x[index])"
   ]
  },
  {
   "cell_type": "code",
   "execution_count": 46,
   "metadata": {},
   "outputs": [],
   "source": [
    "signals_damaged_2_x = np.zeros((len(signals_damaged_2),), dtype = object)\n",
    "signals_damaged_2_y = np.zeros((len(signals_damaged_2),), dtype = object)\n",
    "\n",
    "for index,i in enumerate(signals_damaged_2):\n",
    "    signals_damaged_2_x[index],signals_damaged_2_y[index] = filtr_1(i)\n",
    "    signals_damaged_2_x[index],signals_damaged_2_y[index] = rms_signals(signals_damaged_2_x[index],signals_damaged_2_y[index]) \n",
    "    signals_damaged_2_x[index],signals_damaged_2_y[index] = filtr_2(signals_damaged_2_x[index],signals_damaged_2_y[index])\n",
    "    # signals_damaged_2_x[index] = min_max_scaler.fit_transform(signals_damaged_2_x[index].reshape(-1, 1)).astype(float)    #normalization\n",
    "    # signals_damaged_2_y[index] = min_max_scaler.fit_transform(signals_damaged_2_y[index].reshape(-1, 1)).astype(float)    #normalization\n",
    "    signals_damaged_2_x[index] = signals_damaged_2_x[index] - min(signals_damaged_2_x[index])"
   ]
  },
  {
   "cell_type": "code",
   "execution_count": 47,
   "metadata": {},
   "outputs": [],
   "source": [
    "signals_damaged_ring_x = np.zeros((len(signals_damaged_ring),), dtype = object)\n",
    "signals_damaged_ring_y = np.zeros((len(signals_damaged_ring),), dtype = object)\n",
    "\n",
    "for index,i in enumerate(signals_damaged_ring):\n",
    "    signals_damaged_ring_x[index],signals_damaged_ring_y[index] = filtr_1(i)\n",
    "    signals_damaged_ring_x[index],signals_damaged_ring_y[index] = rms_signals(signals_damaged_ring_x[index],signals_damaged_ring_y[index]) \n",
    "    signals_damaged_ring_x[index],signals_damaged_ring_y[index] = filtr_2(signals_damaged_ring_x[index],signals_damaged_ring_y[index])\n",
    "    # signals_damaged_ring_x[index] = min_max_scaler.fit_transform(signals_damaged_ring_x[index].reshape(-1, 1)).astype(float)  #normalization\n",
    "    # signals_damaged_ring_y[index] = min_max_scaler.fit_transform(signals_damaged_ring_y[index].reshape(-1, 1)).astype(float)  #normalization\n",
    "    signals_damaged_ring_x[index] = signals_damaged_ring_x[index] - min(signals_damaged_ring_x[index])"
   ]
  },
  {
   "cell_type": "code",
   "execution_count": 48,
   "metadata": {},
   "outputs": [],
   "source": [
    "for i in range(len(signals_healthy_y)):\n",
    "    signals_healthy_y[i] = signals_healthy_y[i].reshape(len(signals_healthy_y[i]))\n",
    "\n",
    "for i in range(len(signals_damaged_1_y)):\n",
    "    signals_damaged_1_y[i] = signals_damaged_1_y[i].reshape(len(signals_damaged_1_y[i]))\n",
    "\n",
    "for i in range(len(signals_damaged_2_y)):\n",
    "    signals_damaged_2_y[i] = signals_damaged_2_y[i].reshape(len(signals_damaged_2_y[i]))\n",
    "\n",
    "for i in range(len(signals_damaged_ring_y)):\n",
    "    signals_damaged_ring_y[i] = signals_damaged_ring_y[i].reshape(len(signals_damaged_ring_y[i]))"
   ]
  },
  {
   "cell_type": "code",
   "execution_count": 179,
   "metadata": {},
   "outputs": [],
   "source": [
    "for i in range(len(signals_healthy)):\n",
    "    data = pd.DataFrame((signals_healthy_y[i],signals_healthy_x[i]))\n",
    "    data.to_csv('processed_data1/signals_healthy_{}.csv'.format(i), index=False)\n",
    "\n",
    "for i in range(len(signals_damaged_1)):\n",
    "    data = pd.DataFrame((signals_damaged_1_y[i],signals_damaged_1_x[i]))\n",
    "    data.to_csv('processed_data1/signals_damaged_1_{}.csv'.format(i), index=False)\n",
    "\n",
    "for i in range(len(signals_damaged_2)):\n",
    "    data = pd.DataFrame((signals_damaged_2_y[i],signals_damaged_2_x[i]))\n",
    "    data.to_csv('processed_data1/signals_damaged_2_{}.csv'.format(i), index=False)\n",
    "\n",
    "for i in range(len(signals_damaged_ring)):\n",
    "    data = pd.DataFrame((signals_damaged_ring_y[i],signals_damaged_ring_x[i]))\n",
    "    data.to_csv('processed_data1/signals_damaged_ring_{}.csv'.format(i), index=False)"
   ]
  },
  {
   "cell_type": "code",
   "execution_count": 191,
   "metadata": {},
   "outputs": [],
   "source": [
    "signals_damaged_ring_x22 = np.zeros((7,), dtype = object)\n",
    "signals_damaged_ring_y22 = np.zeros((7,), dtype = object)\n",
    "for i in range(7):\n",
    "    a = pd.read_csv('processed_data1/signals_damaged_2_{}.csv'.format(i)) \n",
    "    signals_damaged_ring_y22[i] = a.to_numpy()[0]\n",
    "    signals_damaged_ring_x22[i] = a.to_numpy()[1]"
   ]
  },
  {
   "cell_type": "code",
   "execution_count": 195,
   "metadata": {},
   "outputs": [
    {
     "data": {
      "text/plain": [
       "array([0.      , 0.019987, 0.039974, 0.059961, 0.079948, 0.099935,\n",
       "       0.119922, 0.139909, 0.159896, 0.179883, 0.19987 , 0.219857,\n",
       "       0.239844, 0.259831, 0.279818, 0.299805, 0.319792, 0.339779,\n",
       "       0.359766, 0.379753, 0.39974 , 0.419727, 0.439714, 0.459701,\n",
       "       0.479688, 0.499675, 0.519662, 0.539649, 0.559636, 0.579623,\n",
       "       0.59961 , 0.619597, 0.639584, 0.659571, 0.679558, 0.699545,\n",
       "       0.719532, 0.739519, 0.759506, 0.779493, 0.79948 , 0.819467,\n",
       "       0.839454, 0.859441, 0.879428, 0.899415, 0.919402, 0.939389,\n",
       "       0.959376, 0.979363, 0.99935 , 1.019337, 1.039324, 1.059311,\n",
       "       1.079298, 1.099285, 1.119272, 1.139259, 1.159246, 1.179233,\n",
       "       1.19922 , 1.219207, 1.239194, 1.259181, 1.279168, 1.299155,\n",
       "       1.319142, 1.339129, 1.359116, 1.379103, 1.39909 , 1.419077,\n",
       "       1.439064, 1.459051, 1.479038, 1.499025, 1.519012, 1.538999,\n",
       "       1.558986, 1.578973, 1.59896 , 1.618947, 1.638934, 1.658921,\n",
       "       1.678908, 1.698895, 1.718882, 1.738869, 1.758856, 1.778843,\n",
       "       1.79883 , 1.818817, 1.838804, 1.858791, 1.878778, 1.898765,\n",
       "       1.918752, 1.938739, 1.958726, 1.978713, 1.9987  , 2.018687,\n",
       "       2.038674, 2.058661, 2.078648, 2.098635, 2.118622, 2.138609,\n",
       "       2.158596, 2.178583, 2.19857 , 2.218557, 2.238544, 2.258531,\n",
       "       2.278518, 2.298505, 2.318492, 2.338479, 2.358466, 2.378453,\n",
       "       2.39844 , 2.418427, 2.438414, 2.458401, 2.478388, 2.498375,\n",
       "       2.518362, 2.538349, 2.558336, 2.578323, 2.59831 , 2.618297,\n",
       "       2.638284, 2.658271, 2.678258, 2.698245, 2.718232, 2.738219,\n",
       "       2.758206, 2.778193, 2.79818 , 2.818167, 2.838154, 2.858141,\n",
       "       2.878128, 2.898115, 2.918102])"
      ]
     },
     "execution_count": 195,
     "metadata": {},
     "output_type": "execute_result"
    }
   ],
   "source": [
    "signals_damaged_ring_x22[0]"
   ]
  }
 ],
 "metadata": {
  "kernelspec": {
   "display_name": "Python 3",
   "language": "python",
   "name": "python3"
  },
  "language_info": {
   "codemirror_mode": {
    "name": "ipython",
    "version": 3
   },
   "file_extension": ".py",
   "mimetype": "text/x-python",
   "name": "python",
   "nbconvert_exporter": "python",
   "pygments_lexer": "ipython3",
   "version": "3.10.0"
  },
  "orig_nbformat": 4,
  "vscode": {
   "interpreter": {
    "hash": "2670be6f64ce752baaf107219fac4c402e9afb03537e1f1d44bad756a8a6d8c8"
   }
  }
 },
 "nbformat": 4,
 "nbformat_minor": 2
}
